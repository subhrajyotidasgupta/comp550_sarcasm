{
 "cells": [
  {
   "cell_type": "code",
   "execution_count": 1,
   "metadata": {},
   "outputs": [
    {
     "name": "stdout",
     "output_type": "stream",
     "text": [
      "Requirement already satisfied: emoji in /home/mila/s/subhrajyoti.dasgupta/.conda/envs/quick_recipe/lib/python3.9/site-packages (2.9.0)\n",
      "Requirement already satisfied: contractions in /home/mila/s/subhrajyoti.dasgupta/.conda/envs/quick_recipe/lib/python3.9/site-packages (0.1.73)\n",
      "Requirement already satisfied: textsearch>=0.0.21 in /home/mila/s/subhrajyoti.dasgupta/.conda/envs/quick_recipe/lib/python3.9/site-packages (from contractions) (0.0.24)\n",
      "Requirement already satisfied: anyascii in /home/mila/s/subhrajyoti.dasgupta/.conda/envs/quick_recipe/lib/python3.9/site-packages (from textsearch>=0.0.21->contractions) (0.3.2)\n",
      "Requirement already satisfied: pyahocorasick in /home/mila/s/subhrajyoti.dasgupta/.conda/envs/quick_recipe/lib/python3.9/site-packages (from textsearch>=0.0.21->contractions) (2.0.0)\n"
     ]
    }
   ],
   "source": [
    "! pip install emoji contractions"
   ]
  },
  {
   "cell_type": "code",
   "execution_count": 2,
   "metadata": {},
   "outputs": [],
   "source": [
    "import pandas as pd\n",
    "from tqdm.notebook import trange, tqdm"
   ]
  },
  {
   "cell_type": "code",
   "execution_count": 3,
   "metadata": {},
   "outputs": [
    {
     "data": {
      "text/html": [
       "<div>\n",
       "<style scoped>\n",
       "    .dataframe tbody tr th:only-of-type {\n",
       "        vertical-align: middle;\n",
       "    }\n",
       "\n",
       "    .dataframe tbody tr th {\n",
       "        vertical-align: top;\n",
       "    }\n",
       "\n",
       "    .dataframe thead th {\n",
       "        text-align: right;\n",
       "    }\n",
       "</style>\n",
       "<table border=\"1\" class=\"dataframe\">\n",
       "  <thead>\n",
       "    <tr style=\"text-align: right;\">\n",
       "      <th></th>\n",
       "      <th>text</th>\n",
       "      <th>sarcasm_label</th>\n",
       "    </tr>\n",
       "  </thead>\n",
       "  <tbody>\n",
       "    <tr>\n",
       "      <th>0</th>\n",
       "      <td>sorry but sue from the mediweight advert looks...</td>\n",
       "      <td>0</td>\n",
       "    </tr>\n",
       "    <tr>\n",
       "      <th>1</th>\n",
       "      <td>@davesnyder since this is fantasy can it be an...</td>\n",
       "      <td>0</td>\n",
       "    </tr>\n",
       "    <tr>\n",
       "      <th>2</th>\n",
       "      <td>Good times, fun times here in Grand old Britan...</td>\n",
       "      <td>1</td>\n",
       "    </tr>\n",
       "    <tr>\n",
       "      <th>3</th>\n",
       "      <td>I send light and love to all impacted by the #...</td>\n",
       "      <td>0</td>\n",
       "    </tr>\n",
       "    <tr>\n",
       "      <th>4</th>\n",
       "      <td>Another year closer to death</td>\n",
       "      <td>0</td>\n",
       "    </tr>\n",
       "    <tr>\n",
       "      <th>...</th>\n",
       "      <td>...</td>\n",
       "      <td>...</td>\n",
       "    </tr>\n",
       "    <tr>\n",
       "      <th>38713</th>\n",
       "      <td>The population spike in Chicago in 9 months is...</td>\n",
       "      <td>0</td>\n",
       "    </tr>\n",
       "    <tr>\n",
       "      <th>38714</th>\n",
       "      <td>You'd think in the second to last English clas...</td>\n",
       "      <td>0</td>\n",
       "    </tr>\n",
       "    <tr>\n",
       "      <th>38715</th>\n",
       "      <td>I’m finally surfacing after a holiday to Scotl...</td>\n",
       "      <td>0</td>\n",
       "    </tr>\n",
       "    <tr>\n",
       "      <th>38716</th>\n",
       "      <td>Couldn't be prouder today. Well done to every ...</td>\n",
       "      <td>0</td>\n",
       "    </tr>\n",
       "    <tr>\n",
       "      <th>38717</th>\n",
       "      <td>Overheard as my 13 year old games with a frien...</td>\n",
       "      <td>0</td>\n",
       "    </tr>\n",
       "  </tbody>\n",
       "</table>\n",
       "<p>38718 rows × 2 columns</p>\n",
       "</div>"
      ],
      "text/plain": [
       "                                                    text  sarcasm_label\n",
       "0      sorry but sue from the mediweight advert looks...              0\n",
       "1      @davesnyder since this is fantasy can it be an...              0\n",
       "2      Good times, fun times here in Grand old Britan...              1\n",
       "3      I send light and love to all impacted by the #...              0\n",
       "4                           Another year closer to death              0\n",
       "...                                                  ...            ...\n",
       "38713  The population spike in Chicago in 9 months is...              0\n",
       "38714  You'd think in the second to last English clas...              0\n",
       "38715  I’m finally surfacing after a holiday to Scotl...              0\n",
       "38716  Couldn't be prouder today. Well done to every ...              0\n",
       "38717  Overheard as my 13 year old games with a frien...              0\n",
       "\n",
       "[38718 rows x 2 columns]"
      ]
     },
     "execution_count": 3,
     "metadata": {},
     "output_type": "execute_result"
    }
   ],
   "source": [
    "data1 = pd.read_csv('isarcasm_train.csv')\n",
    "data2 = pd.read_csv('sarcasmheadlines_train.csv', index_col=0)\n",
    "data3 = pd.read_csv('semeval2018_train.csv', index_col=0)\n",
    "data4 = pd.read_csv('isarcasmeval_train.csv', usecols=['tweet', 'sarcastic'])\n",
    "data4 = data4.rename(columns={\"tweet\": \"text\", \"sarcastic\": \"sarcasm_label\"})\n",
    "\n",
    "data = pd.concat([data1, data2, data3, data4], ignore_index=True)\n",
    "data"
   ]
  },
  {
   "cell_type": "code",
   "execution_count": 4,
   "metadata": {},
   "outputs": [],
   "source": [
    "# replace user tags with @user, consecutive whitespaces to single space,\n",
    "# surround punctuations with space as in https://aclanthology.org/2022.semeval-1.133.pdf\n",
    "# also replace emojis with text desc using 'emoji'\n",
    "# !pip install emoji contractions\n",
    "\n",
    "import re\n",
    "import emoji\n",
    "import contractions\n",
    "\n",
    "def expand_contractions(text):\n",
    "    expanded_text = contractions.fix(text)\n",
    "    return expanded_text\n",
    "\n",
    "def preprocess_tweet(tweet):\n",
    "  # Replace tagged users with @user\n",
    "  tweet = re.sub(r'@[\\w]+', '@user', str(tweet))\n",
    "\n",
    "  # Replace multiple white spaces with a single space\n",
    "  tweet = re.sub(r'\\s+', ' ', tweet)\n",
    "\n",
    "  # Remove more than two successive occurrences of any punctuation\n",
    "  tweet = re.sub(r'(\\s*([.,!?;:()<>{}[\\]\\-+=~_$%^&]\\s){2,})', r'\\1', tweet)\n",
    "\n",
    "  # Replace emoji with emoji descriptor\n",
    "  tweet = emoji.demojize(tweet)\n",
    "\n",
    "  # Put a single white space around punctuations\n",
    "  tweet = re.sub(r'([.,!?;:()<>{}[\\]\\-+=~_$%^&*])', r' \\1 ', tweet)\n",
    "\n",
    "  # expand contractions\n",
    "  tweet = expand_contractions(tweet)\n",
    "\n",
    "  return tweet"
   ]
  },
  {
   "cell_type": "code",
   "execution_count": 5,
   "metadata": {},
   "outputs": [
    {
     "data": {
      "text/html": [
       "<div>\n",
       "<style scoped>\n",
       "    .dataframe tbody tr th:only-of-type {\n",
       "        vertical-align: middle;\n",
       "    }\n",
       "\n",
       "    .dataframe tbody tr th {\n",
       "        vertical-align: top;\n",
       "    }\n",
       "\n",
       "    .dataframe thead th {\n",
       "        text-align: right;\n",
       "    }\n",
       "</style>\n",
       "<table border=\"1\" class=\"dataframe\">\n",
       "  <thead>\n",
       "    <tr style=\"text-align: right;\">\n",
       "      <th></th>\n",
       "      <th>text</th>\n",
       "      <th>sarcasm_label</th>\n",
       "    </tr>\n",
       "  </thead>\n",
       "  <tbody>\n",
       "    <tr>\n",
       "      <th>0</th>\n",
       "      <td>sorry but sue from the mediweight advert looks...</td>\n",
       "      <td>0</td>\n",
       "    </tr>\n",
       "    <tr>\n",
       "      <th>1</th>\n",
       "      <td>@user since this is fantasy can it be any indi...</td>\n",
       "      <td>0</td>\n",
       "    </tr>\n",
       "    <tr>\n",
       "      <th>2</th>\n",
       "      <td>Good times ,  fun times here in Grand old Brit...</td>\n",
       "      <td>1</td>\n",
       "    </tr>\n",
       "    <tr>\n",
       "      <th>3</th>\n",
       "      <td>I send light and love to all impacted by the #...</td>\n",
       "      <td>0</td>\n",
       "    </tr>\n",
       "    <tr>\n",
       "      <th>4</th>\n",
       "      <td>Another year closer to death</td>\n",
       "      <td>0</td>\n",
       "    </tr>\n",
       "    <tr>\n",
       "      <th>...</th>\n",
       "      <td>...</td>\n",
       "      <td>...</td>\n",
       "    </tr>\n",
       "    <tr>\n",
       "      <th>38713</th>\n",
       "      <td>The population spike in Chicago in 9 months is...</td>\n",
       "      <td>0</td>\n",
       "    </tr>\n",
       "    <tr>\n",
       "      <th>38714</th>\n",
       "      <td>You would think in the second to last English ...</td>\n",
       "      <td>0</td>\n",
       "    </tr>\n",
       "    <tr>\n",
       "      <th>38715</th>\n",
       "      <td>I am finally surfacing after a holiday to Scot...</td>\n",
       "      <td>0</td>\n",
       "    </tr>\n",
       "    <tr>\n",
       "      <th>38716</th>\n",
       "      <td>Could not be prouder today .  Well done to eve...</td>\n",
       "      <td>0</td>\n",
       "    </tr>\n",
       "    <tr>\n",
       "      <th>38717</th>\n",
       "      <td>Overheard as my 13 year old games with a frien...</td>\n",
       "      <td>0</td>\n",
       "    </tr>\n",
       "  </tbody>\n",
       "</table>\n",
       "<p>38718 rows × 2 columns</p>\n",
       "</div>"
      ],
      "text/plain": [
       "                                                    text  sarcasm_label\n",
       "0      sorry but sue from the mediweight advert looks...              0\n",
       "1      @user since this is fantasy can it be any indi...              0\n",
       "2      Good times ,  fun times here in Grand old Brit...              1\n",
       "3      I send light and love to all impacted by the #...              0\n",
       "4                           Another year closer to death              0\n",
       "...                                                  ...            ...\n",
       "38713  The population spike in Chicago in 9 months is...              0\n",
       "38714  You would think in the second to last English ...              0\n",
       "38715  I am finally surfacing after a holiday to Scot...              0\n",
       "38716  Could not be prouder today .  Well done to eve...              0\n",
       "38717  Overheard as my 13 year old games with a frien...              0\n",
       "\n",
       "[38718 rows x 2 columns]"
      ]
     },
     "execution_count": 5,
     "metadata": {},
     "output_type": "execute_result"
    }
   ],
   "source": [
    "data['text'] = data['text'].apply(preprocess_tweet)\n",
    "data"
   ]
  },
  {
   "attachments": {},
   "cell_type": "markdown",
   "metadata": {},
   "source": [
    "## LLM = GPT3"
   ]
  },
  {
   "cell_type": "code",
   "execution_count": 6,
   "metadata": {},
   "outputs": [
    {
     "name": "stderr",
     "output_type": "stream",
     "text": [
      "2023-12-19 06:06:23.571974: I tensorflow/core/util/port.cc:110] oneDNN custom operations are on. You may see slightly different numerical results due to floating-point round-off errors from different computation orders. To turn them off, set the environment variable `TF_ENABLE_ONEDNN_OPTS=0`.\n",
      "2023-12-19 06:06:24.264479: I tensorflow/core/platform/cpu_feature_guard.cc:182] This TensorFlow binary is optimized to use available CPU instructions in performance-critical operations.\n",
      "To enable the following instructions: AVX2 AVX512F AVX512_VNNI FMA, in other operations, rebuild TensorFlow with the appropriate compiler flags.\n",
      "2023-12-19 06:06:26.132479: W tensorflow/compiler/tf2tensorrt/utils/py_utils.cc:38] TF-TRT Warning: Could not find TensorRT\n",
      "Some weights of GPTNeoForSequenceClassification were not initialized from the model checkpoint at EleutherAI/gpt-neo-1.3B and are newly initialized: ['transformer.h.3.attn.attention.bias', 'transformer.h.7.attn.attention.bias', 'transformer.h.21.attn.attention.bias', 'score.weight', 'transformer.h.5.attn.attention.bias', 'transformer.h.9.attn.attention.bias', 'transformer.h.13.attn.attention.bias', 'transformer.h.15.attn.attention.bias', 'transformer.h.23.attn.attention.bias', 'transformer.h.19.attn.attention.bias', 'transformer.h.1.attn.attention.bias', 'transformer.h.17.attn.attention.bias', 'transformer.h.11.attn.attention.bias']\n",
      "You should probably TRAIN this model on a down-stream task to be able to use it for predictions and inference.\n",
      "Failed to determine 'entailment' label id from the label2id mapping in the model config. Setting to -1. Define a descriptive label2id mapping in the model config to ensure correct outputs.\n"
     ]
    },
    {
     "data": {
      "application/vnd.jupyter.widget-view+json": {
       "model_id": "b9c0b39536214c8da3970a0162cd2f0d",
       "version_major": 2,
       "version_minor": 0
      },
      "text/plain": [
       "  0%|          | 0/38718 [00:00<?, ?it/s]"
      ]
     },
     "metadata": {},
     "output_type": "display_data"
    },
    {
     "name": "stderr",
     "output_type": "stream",
     "text": [
      "Using pad_token, but it is not set yet.\n",
      "Tokenizer was not supporting padding necessary for zero-shot, attempting to use  `pad_token=eos_token`\n",
      "/home/mila/s/subhrajyoti.dasgupta/.conda/envs/quick_recipe/lib/python3.9/site-packages/transformers/pipelines/base.py:1070: UserWarning: You seem to be using the pipelines sequentially on GPU. In order to maximize efficiency please use a dataset\n",
      "  warnings.warn(\n"
     ]
    }
   ],
   "source": [
    "from transformers import pipeline\n",
    "import numpy as np\n",
    "import torch\n",
    "\n",
    "device = 0 if torch.cuda.is_available() else 'cpu'\n",
    "\n",
    "model_name = \"EleutherAI/gpt-neo-1.3B\"\n",
    "zero_shot_classifier = pipeline(\"zero-shot-classification\", model=model_name, device=device)\n",
    "\n",
    "prompt = '''Here are 4 examples of Sarcastic and Not Sarcastic sentences:\n",
    "            Sentence: The only thing I got from college is a caffeine addiction\n",
    "            Output: Sarcastic\n",
    "            \n",
    "            Sentence: I love it when professors draw a big question mark next to my answer on an exam because I am always like yeah I do not either ¯\\ _  ( ツ )  _ /¯ \n",
    "            Output: Sarcastic\n",
    "\n",
    "            Sentence: 2br apt ,  Notts city centre https : //t . co/yFj989BdXR\n",
    "            Output: Not Sarcastic\n",
    "            \n",
    "            Sentence: Motivation Wednesday Night :  I AM the powerhouse of the cell .\n",
    "            Output: Not Sarcastic\n",
    "            \n",
    "            For the task of Sarcasm Detection, choose whether the following sentence is Sarcastic OR Not Sarcastic. \\n'''\n",
    "\n",
    "candidate_labels = ['Sarcastic','Not Sarcastic']\n",
    "\n",
    "count = 0\n",
    "for i in trange(len(data)):\n",
    "  input_text = data['text'][i]\n",
    "  true = data['sarcasm_label'][i]\n",
    "  \n",
    "  result = zero_shot_classifier(prompt+input_text, candidate_labels)\n",
    "  pred = result['labels'][np.argmax(result['scores'])]\n",
    "\n",
    "  if pred == 'Sarcastic' and true == 1:\n",
    "    count+=1\n",
    "  elif pred == 'Not Sarcastic' and true == 0:\n",
    "    count+=1\n",
    "  # print(np.argmax(result['scores']))\n",
    "  # print(result)\n",
    "  # print(pred)"
   ]
  },
  {
   "cell_type": "code",
   "execution_count": 7,
   "metadata": {},
   "outputs": [
    {
     "name": "stdout",
     "output_type": "stream",
     "text": [
      "21143\n"
     ]
    }
   ],
   "source": [
    "print(count)"
   ]
  },
  {
   "cell_type": "code",
   "execution_count": 8,
   "metadata": {},
   "outputs": [
    {
     "name": "stdout",
     "output_type": "stream",
     "text": [
      "0.5460767601632316\n"
     ]
    }
   ],
   "source": [
    "print(count/len(data))"
   ]
  },
  {
   "cell_type": "code",
   "execution_count": null,
   "metadata": {},
   "outputs": [],
   "source": []
  }
 ],
 "metadata": {
  "kernelspec": {
   "display_name": "quick_recipe",
   "language": "python",
   "name": "python3"
  },
  "language_info": {
   "codemirror_mode": {
    "name": "ipython",
    "version": 3
   },
   "file_extension": ".py",
   "mimetype": "text/x-python",
   "name": "python",
   "nbconvert_exporter": "python",
   "pygments_lexer": "ipython3",
   "version": "3.9.12"
  },
  "orig_nbformat": 4
 },
 "nbformat": 4,
 "nbformat_minor": 2
}
